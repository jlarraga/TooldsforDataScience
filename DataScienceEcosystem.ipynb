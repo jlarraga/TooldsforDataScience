{
 "cells": [
  {
   "cell_type": "markdown",
   "id": "0dacf2c4-e750-44e7-8b06-22644d848788",
   "metadata": {},
   "source": [
    "# Data Science Tools Ecosystem"
   ]
  },
  {
   "cell_type": "markdown",
   "id": "20b5e8cf-01b9-4be4-bf78-1c46f71e1c98",
   "metadata": {},
   "source": [
    "In this notebook, Data Science Tools and Ecosystem are summarized"
   ]
  },
  {
   "cell_type": "markdown",
   "id": "55837d60-6273-4fc9-bcdb-342fb0c9f025",
   "metadata": {},
   "source": [
    "Objectives:\n",
    "- List popular languages for Data Science\n",
    "- List popular libraries for Data Science\n",
    "- List popular Tools for Data Science\n",
    "- Introduction to arithmetic operation in Python"
   ]
  },
  {
   "cell_type": "markdown",
   "id": "9372d043-3803-419a-b463-27d3c11a2174",
   "metadata": {},
   "source": [
    "Some of the popular languages that Data Scientists use are:\n",
    "1. Python\n",
    "1. Julia\n",
    "1. R\n",
    "1. C++\n",
    "1. SQL\n",
    "1. Java\n",
    "1. Scala"
   ]
  },
  {
   "cell_type": "markdown",
   "id": "461efe9c-9a54-4f84-88c0-ad16fc5ccfb1",
   "metadata": {
    "tags": []
   },
   "source": [
    "Some of the commonly used libraries used by Data Scientists include:\n",
    "1. Pandas\n",
    "1. Numpy\n",
    "1. Matplotlib\n",
    "1. Seaborn\n",
    "1. Scikit-learn\n",
    "1. Keras\n",
    "1. PyTorch\n",
    "1. TensorFlow"
   ]
  },
  {
   "cell_type": "markdown",
   "id": "9e202db6-7b8b-4e8d-90c1-a1242ea50f0f",
   "metadata": {},
   "source": [
    "|Data Science Tools|\n",
    "|------------------|\n",
    "| Apache Airflow   |\n",
    "| Kubeflow         |\n",
    "| kibana           |\n",
    "| Superset         |\n",
    "| Seldon           |\n",
    "| TensorFlow       |\n",
    "| Github           |\n"
   ]
  },
  {
   "cell_type": "markdown",
   "id": "e9cb3906-3e66-4795-a451-86219554a888",
   "metadata": {},
   "source": [
    "### Below are a few examples of evaluating arithmetic expressions in Python"
   ]
  },
  {
   "cell_type": "code",
   "execution_count": 1,
   "id": "caa7f8ba-333b-48d5-af46-c48452742c93",
   "metadata": {},
   "outputs": [
    {
     "data": {
      "text/plain": [
       "17"
      ]
     },
     "execution_count": 1,
     "metadata": {},
     "output_type": "execute_result"
    }
   ],
   "source": [
    "# This a simple arithmetic expression to multiply then add integers\n",
    "(3*4)+5"
   ]
  },
  {
   "cell_type": "code",
   "execution_count": 2,
   "id": "caa6c7d9-346b-42a6-9b83-5b0dbcbbcf09",
   "metadata": {},
   "outputs": [
    {
     "data": {
      "text/plain": [
       "3.3333333333333335"
      ]
     },
     "execution_count": 2,
     "metadata": {},
     "output_type": "execute_result"
    }
   ],
   "source": [
    "# This will convert 200 minutes to hours by diving by 60\n",
    "200/60\n"
   ]
  },
  {
   "cell_type": "markdown",
   "id": "b523b61b-46bc-49d3-81ff-9ac71251b5f4",
   "metadata": {},
   "source": [
    "## Author\n",
    "José Manuel Lárraga Gutiérrez"
   ]
  }
 ],
 "metadata": {
  "kernelspec": {
   "display_name": "Python",
   "language": "python",
   "name": "conda-env-python-py"
  },
  "language_info": {
   "codemirror_mode": {
    "name": "ipython",
    "version": 3
   },
   "file_extension": ".py",
   "mimetype": "text/x-python",
   "name": "python",
   "nbconvert_exporter": "python",
   "pygments_lexer": "ipython3",
   "version": "3.7.12"
  }
 },
 "nbformat": 4,
 "nbformat_minor": 5
}
